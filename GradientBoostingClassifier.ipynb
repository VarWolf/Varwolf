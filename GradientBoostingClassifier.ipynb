{
  "cells": [
    {
      "metadata": {
        "_uuid": "8f2839f25d086af736a60e9eeb907d3b93b6e0e5",
        "_cell_guid": "b1076dfc-b9ad-4769-8c92-a6c4dae69d19",
        "trusted": true
      },
      "cell_type": "code",
      "source": "# This Python 3 environment comes with many helpful analytics libraries installed\n# It is defined by the kaggle/python docker image: https://github.com/kaggle/docker-python\n# For example, here's several helpful packages to load in \n\nimport numpy as np # linear algebra\nimport pandas as pd # data processing, CSV file I/O (e.g. pd.read_csv)\n\n# Input data files are available in the \"../input/\" directory.\n# For example, running this (by clicking run or pressing Shift+Enter) will list the files in the input directory\n\nimport os\nprint(os.listdir(\"../input\"))\n\n# Any results you write to the current directory are saved as output.",
      "execution_count": null,
      "outputs": []
    },
    {
      "metadata": {
        "_cell_guid": "79c7e3d0-c299-4dcb-8224-4455121ee9b0",
        "_uuid": "d629ff2d2480ee46fbb7e2d37f6b5fab8052498a",
        "trusted": true,
        "_kg_hide-input": true,
        "_kg_hide-output": true
      },
      "cell_type": "code",
      "source": "import pandas as pd\nimport numpy as np\nimport xgboost as xgb\nfrom xgboost.sklearn import XGBClassifier\nfrom sklearn.ensemble import GradientBoostingClassifier\nfrom sklearn.ensemble import RandomForestClassifier\nfrom sklearn import svm\nfrom sklearn.svm import SVC\nfrom sklearn.ensemble import VotingClassifier\nfrom sklearn.model_selection import cross_val_score\nfrom sklearn.metrics import accuracy_score\nfrom sklearn.neighbors import KNeighborsClassifier\nfrom imblearn.over_sampling import SMOTE\nfrom sklearn.ensemble import ExtraTreesClassifier\nfrom xgboost import plot_importance\nimport matplotlib.pyplot as plt",
      "execution_count": null,
      "outputs": []
    },
    {
      "metadata": {
        "trusted": true,
        "_uuid": "565020b948367c316e03c7376cfd5b39de0b064e"
      },
      "cell_type": "code",
      "source": "data = pd.read_csv('../input/train.csv',dtype={'duration': int})\ndata_test = pd.read_csv('../input/test.csv',dtype={'duration': int})\nsubs = pd.read_csv('../input/sample_submission.csv',dtype={'duration': int})",
      "execution_count": null,
      "outputs": []
    },
    {
      "metadata": {
        "trusted": true,
        "_uuid": "5c9226429da18bbddf67a9e3ae261a1e12d8a576"
      },
      "cell_type": "code",
      "source": "def datas_plit(data_train):\n    # 把 个户ID 和家庭ID 标签放在 前面来\n    data_idhogar = data_train['idhogar']\n    data_train = data_train.drop('idhogar',axis=1)\n    data_train.insert(1,'idhogar',data_idhogar)\n    \n#     print(data_train['idhogar'],'=======!!!!+=================++++++++++++++++++++')\n    \n    indexs = np.array(data_train.columns.values)\n#     print(indexs,'======================!!!!=====================','Target' in indexs)\n    print('Target' in indexs,'========')\n    flag = False\n    if 'Target' in indexs:\n        data_Target = data_train['Target']\n        data_train = data_train.drop('Target',axis=1)\n        data_train.insert(2,'Target',data_Target)\n        flag = True\n        print('Target in index ')\n    else:\n        print('Target NOT in index !!!!!')\n\n    # # 在填充  均值\n    data_train = data_train.fillna(0)\n    # 依赖注入 关系  转变 0 1\n    data_train.loc[data_train['dependency'] == 'yes', 'dependency'] = 1\n    data_train.loc[data_train['dependency'] == 'no', 'dependency'] = 0\n    # 起誓  0 1\n    data_train.loc[data_train['edjefe'] == 'yes', 'edjefe'] = 1\n    data_train.loc[data_train['edjefe'] == 'no', 'edjefe'] = 0\n\n    data_train.loc[data_train['edjefa'] == 'yes', 'edjefa'] = 1\n    data_train.loc[data_train['edjefa'] == 'no', 'edjefa'] = 0\n\n\n    data_train['edjefa'] = data_train['edjefa'].astype(np.float64)\n    data_train['edjefe'] = data_train['edjefe'].astype(np.float64)\n    data_train['dependency'] = data_train['dependency'].astype(np.float64)\n    \n\n    if flag:\n        data_training = data_train.iloc[:,3:]\n        data_label = data_train.iloc[:,2]\n        \n        return data_training,data_label\n    else:\n        data_training = data_train.iloc[:,2:]\n        data_training = data_training.astype(np.float64)\n        \n        return data_training\n    \ndata_x,data_y = datas_plit(data)\n\n\ntest_data = datas_plit(data_test)",
      "execution_count": null,
      "outputs": []
    },
    {
      "metadata": {
        "trusted": true,
        "_uuid": "1f59030b698aa324365043805770d09ade63a0f5"
      },
      "cell_type": "code",
      "source": "#把关联的列组合 删除\ndef comb(arr,data_csv):\n    test = []\n    for type in arr:\n        test.append(data_csv[type])\n        data_csv.drop([type], axis=1,inplace=True)\n    array2 = np.array(test)\n    max_p_row= array2.argmax(axis=0)\n    return max_p_row\n\ndata_csv1 = data\n\n#租金为空值的人的房屋情况\nnorent=data_csv1[data_csv1['v2a1'].isnull()]\nprint(norent.shape)\nown_house=norent[norent['tipovivi1']==1]['Id'].count()\ninstallments=norent[norent['tipovivi2']==1]['Id'].count()\nrented=norent[norent['tipovivi3']==1]['Id'].count()\nPrecarious=norent[norent['tipovivi4']==1]['Id'].count()\nother= norent[norent['tipovivi5']==1]['Id'].count()\nnum_list=[own_house,installments,rented,Precarious,other]\nname_list=['own_house','installments','rented','Precarious','other']\n\n# data_csv=data_csv.drop(data_csv.query('Target == 4').sample(frac=0.75).index)\n\nplt.bar(range(len(num_list)),num_list,tick_label=name_list)\nplt.show()\n\n\n#把相关的特征进行处理\nlife_condition={'wall_material':['paredblolad','paredzocalo','paredpreb','pareddes','paredmad','paredzinc','paredfibras','paredother'],\n                'elimbasu':['elimbasu1','elimbasu2','elimbasu3','elimbasu4','elimbasu5','elimbasu6'],\n                'floor':['pisomoscer','pisocemento','pisoother','pisonatur','pisonotiene','pisomadera'],\n                'roof':['techozinc','techoentrepiso','techocane','techootro'],\n                'water':['abastaguadentro','abastaguafuera','abastaguano'],\n                'electricity':['public','planpri','noelec','coopele'],\n                'sanitario':['sanitario1','sanitario2','sanitario3','sanitario5','sanitario6'],\n                'energcocinar':['energcocinar1','energcocinar2','energcocinar3','energcocinar4'],\n                'epared':['epared1','epared2','epared3'],\n                 'etecho':['etecho1','etecho2','etecho3'],\n                'eviv':['eviv1','eviv2','eviv3'],\n                'sex':['male','female'],\n                'estadocivil':['estadocivil1','estadocivil2','estadocivil3','estadocivil4','estadocivil5','estadocivil6','estadocivil7'],\n                'parentesco':['parentesco1','parentesco2','parentesco3','parentesco4','parentesco5','parentesco6','parentesco7','parentesco8','parentesco9','parentesco10','parentesco11','parentesco12'],\n                'instlevel':['instlevel1', 'instlevel2', 'instlevel3', 'instlevel4', 'instlevel5', 'instlevel6', 'instlevel7', 'instlevel8', 'instlevel9'],\n                'tipovivi':['tipovivi1','tipovivi2','tipovivi3','tipovivi4','tipovivi5'],\n                'lugar':['lugar1','lugar2','lugar3','lugar4','lugar5','lugar6'],\n                'area':['area1',\"area2\"],\n}\n    \n\nfor life in (life_condition):\n    _type = comb(life_condition[life], data_x) #\n    data_x.insert(2,life, _type)\n\n\n    \nfor life in (life_condition):\n    _type = comb(life_condition[life], test_data) #\n    test_data.insert(2,life, _type)\n    \n    \nkind = ['regular', 'borderline1', 'borderline2', 'svm']\nsm = SMOTE(kind='regular') \nX_res, y_res = sm.fit_sample(data_x, data_y)\n\ncolumns = test_data.columns.values\nX_res = pd.DataFrame(X_res,columns=columns)\n\nprint(X_res)\nprint(test_data)\n    ",
      "execution_count": null,
      "outputs": []
    },
    {
      "metadata": {
        "trusted": true,
        "_uuid": "5954a8b5f935511cc5f7508813695879867e3f03"
      },
      "cell_type": "code",
      "source": "# model = xgb.XGBClassifier(max_depth=7, learning_rate=0.6, n_estimators=180,scale_pos_weight=5, silent=True, objective='multi:softmax')\n# # model = KNeighborsClassifier(n_neighbors=2)\n# # model = ExtraTreesClassifier(n_estimators=500, max_leaf_nodes=16, n_jobs=-1)\n# model.fit(X_res, y_res)",
      "execution_count": null,
      "outputs": []
    },
    {
      "metadata": {
        "trusted": true,
        "_uuid": "276125d53eca5e9e2defa4c9f71cd288fa5a298b"
      },
      "cell_type": "code",
      "source": "# model = GradientBoostingClassifier(learning_rate=0.1, min_samples_split=500,min_samples_leaf=50,max_depth=8,max_features='sqrt',subsample=0.8)\n# model = GradientBoostingClassifier()\n\nmodel = GradientBoostingClassifier(learning_rate=0.1, min_samples_split=500,min_samples_leaf=50,max_depth=7,max_features='sqrt',subsample=0.8)\n# model.fit(data_x, data_y)\nmodel.fit(X_res, y_res)\n\nres_y = model.predict(X_res)\n# res_y = model.predict(data_x)\n\nscores = accuracy_score(res_y, y_res)\n# scores = accuracy_score(res_y, data_y)\n\nprint(\"Accuracy:  [%s]\" % (scores))\n\n",
      "execution_count": null,
      "outputs": []
    },
    {
      "metadata": {
        "trusted": true,
        "_uuid": "dadbc19639feb47114658b3afd563d3d4f3c572c"
      },
      "cell_type": "code",
      "source": "# y_test = model.predict( X_res )\n\n\n# # 计算准确率\n# # y_res = y_res.values\n# cnt1 = 0\n# cnt2 = 0\n# for i in range(len(y_test)):\n#     if y_res[i] == y_test[i]:\n#         cnt1 += 1\n#     else:\n#         cnt2 += 1\n\n# print(\"Accuracy: %.2f %% \" % (100 * cnt1 / (cnt1 + cnt2)))",
      "execution_count": null,
      "outputs": []
    },
    {
      "metadata": {
        "trusted": true,
        "_uuid": "f10418fe55e11d0589481a228fdec082de0d4a97"
      },
      "cell_type": "code",
      "source": "# ans = model.predict(test_data)\nans = model.predict(test_data)\n\n\nprint(ans)\n\nsubs['Target'] = ans\nprint(subs)\n\nsubs.to_csv('sample_submission.csv',index=False)\n\n",
      "execution_count": null,
      "outputs": []
    },
    {
      "metadata": {
        "trusted": true,
        "_uuid": "a3549b0593ec852cc6e0ef78138e880b786972dd"
      },
      "cell_type": "code",
      "source": "",
      "execution_count": null,
      "outputs": []
    }
  ],
  "metadata": {
    "kernelspec": {
      "display_name": "Python 3",
      "language": "python",
      "name": "python3"
    },
    "language_info": {
      "name": "python",
      "version": "3.6.6",
      "mimetype": "text/x-python",
      "codemirror_mode": {
        "name": "ipython",
        "version": 3
      },
      "pygments_lexer": "ipython3",
      "nbconvert_exporter": "python",
      "file_extension": ".py"
    }
  },
  "nbformat": 4,
  "nbformat_minor": 1
}